{
 "cells": [
  {
   "cell_type": "code",
   "execution_count": 35,
   "id": "5f9f6177",
   "metadata": {},
   "outputs": [],
   "source": [
    "#Importing the libraries\n",
    "from tensorflow.keras.models import Sequential\n",
    "from tensorflow.keras.layers import Dense,BatchNormalization\n",
    "from tensorflow.keras.callbacks import EarlyStopping\n",
    "import pandas as pd\n",
    "import warnings\n",
    "warnings.filterwarnings(\"ignore\", category=DeprecationWarning)"
   ]
  },
  {
   "cell_type": "code",
   "execution_count": 36,
   "id": "b8d36a6e",
   "metadata": {},
   "outputs": [
    {
     "data": {
      "text/html": [
       "<div>\n",
       "<style scoped>\n",
       "    .dataframe tbody tr th:only-of-type {\n",
       "        vertical-align: middle;\n",
       "    }\n",
       "\n",
       "    .dataframe tbody tr th {\n",
       "        vertical-align: top;\n",
       "    }\n",
       "\n",
       "    .dataframe thead th {\n",
       "        text-align: right;\n",
       "    }\n",
       "</style>\n",
       "<table border=\"1\" class=\"dataframe\">\n",
       "  <thead>\n",
       "    <tr style=\"text-align: right;\">\n",
       "      <th></th>\n",
       "      <th>sensor_0</th>\n",
       "      <th>sensor_1</th>\n",
       "      <th>sensor_2</th>\n",
       "      <th>sensor_3</th>\n",
       "      <th>sensor_4</th>\n",
       "      <th>sensor_5</th>\n",
       "      <th>sensor_6</th>\n",
       "      <th>sensor_7</th>\n",
       "      <th>sensor_8</th>\n",
       "      <th>sensor_9</th>\n",
       "      <th>...</th>\n",
       "      <th>sensor_13</th>\n",
       "      <th>sensor_14</th>\n",
       "      <th>sensor_15</th>\n",
       "      <th>sensor_16</th>\n",
       "      <th>sensor_17</th>\n",
       "      <th>sensor_18</th>\n",
       "      <th>sensor_19</th>\n",
       "      <th>parcel_0</th>\n",
       "      <th>parcel_1</th>\n",
       "      <th>parcel_2</th>\n",
       "    </tr>\n",
       "  </thead>\n",
       "  <tbody>\n",
       "    <tr>\n",
       "      <th>0</th>\n",
       "      <td>1.0</td>\n",
       "      <td>2.0</td>\n",
       "      <td>1.0</td>\n",
       "      <td>7.0</td>\n",
       "      <td>0.0</td>\n",
       "      <td>1.0</td>\n",
       "      <td>1.0</td>\n",
       "      <td>4.0</td>\n",
       "      <td>0.0</td>\n",
       "      <td>3.0</td>\n",
       "      <td>...</td>\n",
       "      <td>8.0</td>\n",
       "      <td>1.0</td>\n",
       "      <td>0.0</td>\n",
       "      <td>2.0</td>\n",
       "      <td>1.0</td>\n",
       "      <td>9.0</td>\n",
       "      <td>2.0</td>\n",
       "      <td>0</td>\n",
       "      <td>1</td>\n",
       "      <td>0</td>\n",
       "    </tr>\n",
       "    <tr>\n",
       "      <th>1</th>\n",
       "      <td>5.0</td>\n",
       "      <td>1.0</td>\n",
       "      <td>3.0</td>\n",
       "      <td>5.0</td>\n",
       "      <td>2.0</td>\n",
       "      <td>2.0</td>\n",
       "      <td>1.0</td>\n",
       "      <td>2.0</td>\n",
       "      <td>3.0</td>\n",
       "      <td>1.0</td>\n",
       "      <td>...</td>\n",
       "      <td>4.0</td>\n",
       "      <td>5.0</td>\n",
       "      <td>5.0</td>\n",
       "      <td>2.0</td>\n",
       "      <td>2.0</td>\n",
       "      <td>2.0</td>\n",
       "      <td>7.0</td>\n",
       "      <td>0</td>\n",
       "      <td>0</td>\n",
       "      <td>0</td>\n",
       "    </tr>\n",
       "    <tr>\n",
       "      <th>2</th>\n",
       "      <td>3.0</td>\n",
       "      <td>1.0</td>\n",
       "      <td>4.0</td>\n",
       "      <td>3.0</td>\n",
       "      <td>4.0</td>\n",
       "      <td>0.0</td>\n",
       "      <td>1.0</td>\n",
       "      <td>6.0</td>\n",
       "      <td>0.0</td>\n",
       "      <td>2.0</td>\n",
       "      <td>...</td>\n",
       "      <td>3.0</td>\n",
       "      <td>3.0</td>\n",
       "      <td>1.0</td>\n",
       "      <td>0.0</td>\n",
       "      <td>3.0</td>\n",
       "      <td>1.0</td>\n",
       "      <td>0.0</td>\n",
       "      <td>1</td>\n",
       "      <td>1</td>\n",
       "      <td>0</td>\n",
       "    </tr>\n",
       "    <tr>\n",
       "      <th>3</th>\n",
       "      <td>2.0</td>\n",
       "      <td>2.0</td>\n",
       "      <td>4.0</td>\n",
       "      <td>3.0</td>\n",
       "      <td>5.0</td>\n",
       "      <td>0.0</td>\n",
       "      <td>3.0</td>\n",
       "      <td>2.0</td>\n",
       "      <td>2.0</td>\n",
       "      <td>5.0</td>\n",
       "      <td>...</td>\n",
       "      <td>4.0</td>\n",
       "      <td>1.0</td>\n",
       "      <td>1.0</td>\n",
       "      <td>4.0</td>\n",
       "      <td>1.0</td>\n",
       "      <td>3.0</td>\n",
       "      <td>2.0</td>\n",
       "      <td>0</td>\n",
       "      <td>0</td>\n",
       "      <td>0</td>\n",
       "    </tr>\n",
       "    <tr>\n",
       "      <th>4</th>\n",
       "      <td>4.0</td>\n",
       "      <td>3.0</td>\n",
       "      <td>3.0</td>\n",
       "      <td>2.0</td>\n",
       "      <td>5.0</td>\n",
       "      <td>1.0</td>\n",
       "      <td>3.0</td>\n",
       "      <td>1.0</td>\n",
       "      <td>1.0</td>\n",
       "      <td>2.0</td>\n",
       "      <td>...</td>\n",
       "      <td>1.0</td>\n",
       "      <td>3.0</td>\n",
       "      <td>2.0</td>\n",
       "      <td>2.0</td>\n",
       "      <td>1.0</td>\n",
       "      <td>1.0</td>\n",
       "      <td>0.0</td>\n",
       "      <td>1</td>\n",
       "      <td>1</td>\n",
       "      <td>0</td>\n",
       "    </tr>\n",
       "  </tbody>\n",
       "</table>\n",
       "<p>5 rows × 23 columns</p>\n",
       "</div>"
      ],
      "text/plain": [
       "   sensor_0  sensor_1  sensor_2  sensor_3  sensor_4  sensor_5  sensor_6  \\\n",
       "0       1.0       2.0       1.0       7.0       0.0       1.0       1.0   \n",
       "1       5.0       1.0       3.0       5.0       2.0       2.0       1.0   \n",
       "2       3.0       1.0       4.0       3.0       4.0       0.0       1.0   \n",
       "3       2.0       2.0       4.0       3.0       5.0       0.0       3.0   \n",
       "4       4.0       3.0       3.0       2.0       5.0       1.0       3.0   \n",
       "\n",
       "   sensor_7  sensor_8  sensor_9  ...  sensor_13  sensor_14  sensor_15  \\\n",
       "0       4.0       0.0       3.0  ...        8.0        1.0        0.0   \n",
       "1       2.0       3.0       1.0  ...        4.0        5.0        5.0   \n",
       "2       6.0       0.0       2.0  ...        3.0        3.0        1.0   \n",
       "3       2.0       2.0       5.0  ...        4.0        1.0        1.0   \n",
       "4       1.0       1.0       2.0  ...        1.0        3.0        2.0   \n",
       "\n",
       "   sensor_16  sensor_17  sensor_18  sensor_19  parcel_0  parcel_1  parcel_2  \n",
       "0        2.0        1.0        9.0        2.0         0         1         0  \n",
       "1        2.0        2.0        2.0        7.0         0         0         0  \n",
       "2        0.0        3.0        1.0        0.0         1         1         0  \n",
       "3        4.0        1.0        3.0        2.0         0         0         0  \n",
       "4        2.0        1.0        1.0        0.0         1         1         0  \n",
       "\n",
       "[5 rows x 23 columns]"
      ]
     },
     "execution_count": 36,
     "metadata": {},
     "output_type": "execute_result"
    }
   ],
   "source": [
    "df=pd.read_csv(\"irrigation_machine.csv\").iloc[:,1:]\n",
    "df.head()"
   ]
  },
  {
   "cell_type": "code",
   "execution_count": 37,
   "id": "da0b7023",
   "metadata": {},
   "outputs": [],
   "source": [
    "X=df.iloc[:,:20]\n",
    "y=df.iloc[:,-3:]"
   ]
  },
  {
   "cell_type": "code",
   "execution_count": 38,
   "id": "c38b39f9",
   "metadata": {},
   "outputs": [],
   "source": [
    "#Splitting the data in train and test\n",
    "\n",
    "from sklearn.model_selection import train_test_split\n",
    "\n",
    "X_train,X_test,y_train,y_test=train_test_split(X,y,test_size=0.3, random_state=42)"
   ]
  },
  {
   "cell_type": "code",
   "execution_count": 39,
   "id": "0c3df25a",
   "metadata": {},
   "outputs": [],
   "source": [
    "#Standardization the data\n",
    "\n",
    "from sklearn.preprocessing import StandardScaler\n",
    "\n",
    "scaler_x=StandardScaler()\n",
    "\n",
    "scaler_x.fit(X_train)\n",
    "\n",
    "X_train=pd.DataFrame(scaler_x.transform(X_train),columns=X_train.columns)\n",
    "\n",
    "X_test=pd.DataFrame(scaler_x.transform(X_test),columns=X_test.columns)"
   ]
  },
  {
   "cell_type": "code",
   "execution_count": 40,
   "id": "a9e87d6c",
   "metadata": {},
   "outputs": [
    {
     "name": "stdout",
     "output_type": "stream",
     "text": [
      "Epoch 1/200\n",
      "35/35 [==============================] - 3s 18ms/step - loss: 0.5799 - accuracy: 0.4580 - val_loss: 0.5610 - val_accuracy: 0.5643\n",
      "Epoch 2/200\n",
      "35/35 [==============================] - 0s 7ms/step - loss: 0.3711 - accuracy: 0.5232 - val_loss: 0.4857 - val_accuracy: 0.4571\n",
      "Epoch 3/200\n",
      "35/35 [==============================] - 0s 7ms/step - loss: 0.3029 - accuracy: 0.5366 - val_loss: 0.4200 - val_accuracy: 0.4607\n",
      "Epoch 4/200\n",
      "35/35 [==============================] - 0s 6ms/step - loss: 0.2616 - accuracy: 0.5562 - val_loss: 0.3714 - val_accuracy: 0.4571\n"
     ]
    }
   ],
   "source": [
    "#Creating the model\n",
    "\n",
    "early=EarlyStopping(monitor=\"val_accuracy\", patience=3)\n",
    "\n",
    "model=Sequential()\n",
    "\n",
    "model.add(Dense(256,activation=\"relu\",input_dim=X_train.shape[1]))\n",
    "\n",
    "model.add(BatchNormalization())\n",
    "\n",
    "model.add(Dense(128,activation=\"relu\"))\n",
    "\n",
    "model.add(BatchNormalization())\n",
    "\n",
    "model.add(Dense(32,activation=\"relu\"))\n",
    "\n",
    "model.add(BatchNormalization())\n",
    "\n",
    "model.add(Dense(3,activation=\"sigmoid\"))\n",
    "\n",
    "model.compile(optimizer=\"adam\",metrics=\"accuracy\",loss=\"binary_crossentropy\")\n",
    "\n",
    "history=model.fit(X_train,y_train,epochs=200,batch_size=32,validation_split=0.2,callbacks=[early])\n"
   ]
  },
  {
   "cell_type": "code",
   "execution_count": 41,
   "id": "4ac1465c",
   "metadata": {},
   "outputs": [
    {
     "name": "stdout",
     "output_type": "stream",
     "text": [
      "19/19 [==============================] - 0s 3ms/step - loss: 0.3775 - accuracy: 0.4883\n"
     ]
    },
    {
     "data": {
      "text/plain": [
       "[0.3775310218334198, 0.4883333444595337]"
      ]
     },
     "execution_count": 41,
     "metadata": {},
     "output_type": "execute_result"
    }
   ],
   "source": [
    "model.evaluate(X_test,y_test)"
   ]
  },
  {
   "cell_type": "code",
   "execution_count": 42,
   "id": "830a92b4",
   "metadata": {},
   "outputs": [
    {
     "name": "stdout",
     "output_type": "stream",
     "text": [
      "Best Score 0.6357108354568481\n",
      "==============================\n",
      "Best Parameters {'optimizer': 'sgd', 'epochs': 40, 'batch_size': 32, 'activation': 'sigmoid'}\n"
     ]
    }
   ],
   "source": [
    "##Tuning hyperparameters\n",
    "\n",
    "from tensorflow.keras.wrappers.scikit_learn import KerasClassifier\n",
    "from sklearn.model_selection import cross_val_score,RandomizedSearchCV\n",
    "\n",
    "def model_function(optimizer=\"adam\",activation=\"relu\"):\n",
    "    model=Sequential()\n",
    "    model.add(Dense(100,activation=activation,input_dim=X_train.shape[1]))\n",
    "    model.add(BatchNormalization())\n",
    "    model.add(Dense(50,activation=activation))\n",
    "    model.add(BatchNormalization())\n",
    "    model.add(Dense(3,activation=\"sigmoid\"))\n",
    "    model.compile(optimizer=optimizer,loss=\"binary_crossentropy\",metrics=\"accuracy\")\n",
    "    return model\n",
    "\n",
    "modelo=KerasClassifier(build_fn=model_function,epochs=3,batch_size=16,verbose=0)\n",
    "\n",
    "parameters={\n",
    "    \"optimizer\":[\"adam\",\"sgd\",\"rmsprop\"],\n",
    "    \"activation\":[\"relu\",\"sigmoid\"],\n",
    "    \"epochs\":[10,20,40],\n",
    "    \"batch_size\":[16,32,64]\n",
    "}\n",
    "\n",
    "random=RandomizedSearchCV(modelo,param_distributions=parameters,cv=3)\n",
    "\n",
    "results=random.fit(X_train,y_train)\n",
    "\n",
    "print(\"Best Score\", results.best_score_)\n",
    "print(\"=\"*30)\n",
    "print(\"Best Parameters\" , results.best_params_)"
   ]
  },
  {
   "cell_type": "code",
   "execution_count": 47,
   "id": "7985efa8",
   "metadata": {},
   "outputs": [
    {
     "data": {
      "text/plain": [
       "0.5716666579246521"
      ]
     },
     "execution_count": 47,
     "metadata": {},
     "output_type": "execute_result"
    }
   ],
   "source": [
    "##Checking the performace\n",
    "cross_val_score(results,X_test,y_test,cv=3).mean()"
   ]
  },
  {
   "cell_type": "code",
   "execution_count": 98,
   "id": "324578e5",
   "metadata": {},
   "outputs": [
    {
     "name": "stdout",
     "output_type": "stream",
     "text": [
      "Best Score 0.6535981297492981\n",
      "==============================\n",
      "Best Parameters {'nn': 200, 'dense_layers_extra': 2}\n"
     ]
    }
   ],
   "source": [
    "##Tuning layers and neurons\n",
    "\n",
    "from tensorflow.keras.wrappers.scikit_learn import KerasClassifier\n",
    "from sklearn.model_selection import cross_val_score,RandomizedSearchCV\n",
    "\n",
    "def model_function_2(dense_layers_extra=2,nn=100):\n",
    "    model=Sequential()\n",
    "    model.add(Dense(units=nn,activation=\"relu\",input_dim=X_train.shape[1]))\n",
    "    \n",
    "    for i in range(1,dense_layers_extra+1):\n",
    "        model.add(BatchNormalization())\n",
    "        model.add(Dense(units=nn, activation=\"relu\"))\n",
    "        \n",
    "    model.compile(optimizer=\"adam\",loss=\"binary_crossentropy\",metrics=\"accuracy\")\n",
    "    \n",
    "    model.add(Dense(3,activation=\"sigmoid\"))\n",
    "    \n",
    "    return model\n",
    "\n",
    "modelo=KerasClassifier(build_fn=model_function_2,epochs=3,batch_size=16,verbose=0)\n",
    "\n",
    "parameters={\n",
    "    \"dense_layers_extra\":[1,2,3,4],\n",
    "    \"nn\":[50,100,200,400]\n",
    "}\n",
    "\n",
    "random=RandomizedSearchCV(modelo,param_distributions=parameters,cv=3)\n",
    "\n",
    "results=random.fit(X_train,y_train)\n",
    "\n",
    "print(\"Best Score\", results.best_score_)\n",
    "print(\"=\"*30)\n",
    "print(\"Best Parameters\" , results.best_params_)\n"
   ]
  },
  {
   "cell_type": "code",
   "execution_count": 96,
   "id": "42626cf3",
   "metadata": {},
   "outputs": [
    {
     "name": "stdout",
     "output_type": "stream",
     "text": [
      "Model: \"sequential_433\"\n",
      "_________________________________________________________________\n",
      " Layer (type)                Output Shape              Param #   \n",
      "=================================================================\n",
      " dense_1279 (Dense)          (None, 100)               2100      \n",
      "                                                                 \n",
      " dense_1280 (Dense)          (None, 3)                 303       \n",
      "                                                                 \n",
      "=================================================================\n",
      "Total params: 2,403\n",
      "Trainable params: 2,403\n",
      "Non-trainable params: 0\n",
      "_________________________________________________________________\n"
     ]
    }
   ],
   "source": [
    "model_function_2(dense_layers_extra=0,nn=100).summary()"
   ]
  },
  {
   "cell_type": "code",
   "execution_count": 99,
   "id": "b210fb74",
   "metadata": {},
   "outputs": [
    {
     "data": {
      "text/plain": [
       "0.6066666642824808"
      ]
     },
     "execution_count": 99,
     "metadata": {},
     "output_type": "execute_result"
    }
   ],
   "source": [
    "##Checking the performace\n",
    "cross_val_score(results,X_test,y_test,cv=3).mean()"
   ]
  }
 ],
 "metadata": {
  "kernelspec": {
   "display_name": "Python 3 (ipykernel)",
   "language": "python",
   "name": "python3"
  },
  "language_info": {
   "codemirror_mode": {
    "name": "ipython",
    "version": 3
   },
   "file_extension": ".py",
   "mimetype": "text/x-python",
   "name": "python",
   "nbconvert_exporter": "python",
   "pygments_lexer": "ipython3",
   "version": "3.9.13"
  }
 },
 "nbformat": 4,
 "nbformat_minor": 5
}
